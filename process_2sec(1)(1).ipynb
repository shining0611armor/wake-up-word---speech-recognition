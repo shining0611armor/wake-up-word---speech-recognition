{
  "cells": [
    {
      "cell_type": "code",
      "execution_count": null,
      "metadata": {
        "id": "R7ATH8EmZFz1"
      },
      "outputs": [],
      "source": [
        "pip install pydub"
      ]
    },
    {
      "cell_type": "code",
      "execution_count": null,
      "metadata": {
        "id": "W0UCfW4qZNH7"
      },
      "outputs": [],
      "source": [
        "import os\n",
        "from pydub import AudioSegment\n",
        "\n",
        "def get_durations(directory):\n",
        "    durations = {}\n",
        "    for filename in os.listdir(directory):\n",
        "        if filename.endswith('.flac', '.wav'):\n",
        "            filepath = os.path.join(directory, filename)\n",
        "            audio = AudioSegment.from_file(filepath, format='flac')\n",
        "            duration_ms = len(audio)\n",
        "            durations[filename] = duration_ms\n",
        "    return durations\n",
        "\n",
        "directory_path = '/content/alexa/alexa'\n",
        "output_directory = '/content/positive'\n",
        "\n",
        "target_duration_ms = 2000\n",
        "\n",
        "def resize_audio(file_path, target_duration):\n",
        "    audio = AudioSegment.from_file(file_path, format='flac')\n",
        "    current_duration = len(audio)\n",
        "\n",
        "    if current_duration > target_duration:\n",
        "        resized_audio = audio[:target_duration]\n",
        "    else:\n",
        "        silence = AudioSegment.silent(duration=target_duration - current_duration)\n",
        "        resized_audio = audio + silence\n",
        "\n",
        "    return resized_audio\n",
        "\n",
        "\n",
        "resized_audio = resize_audio(input_path, target_duration_ms)\n",
        "\n",
        "output_path = os.path.join(output_directory, filename)\n",
        "resized_audio.export(output_path, format='flac')\n",
        "\n",
        "durations = get_flac_durations(directory_path)\n",
        "for filename, duration in durations.items():\n",
        "    if (duration < 2700 and duration > 2000):\n",
        "\n",
        "        input_path = os.path.join(directory_path, filename)\n",
        "        resized_audio = resize_audio(input_path, target_duration_ms)\n",
        "\n",
        "        output_path = os.path.join(output_directory, filename)\n",
        "        resized_audio.export(output_path, format='flac')"
      ]
    },
    {
      "cell_type": "code",
      "execution_count": null,
      "metadata": {
        "id": "ZKcsvSf0j6Ev"
      },
      "outputs": [],
      "source": [
        "import os\n",
        "import shutil\n",
        "from pydub import AudioSegment\n",
        "\n",
        "def create_directory(path):\n",
        "    if not os.path.exists(path):\n",
        "        os.makedirs(path)\n",
        "\n",
        "def get_audio_files_in_directory(directory):\n",
        "    audio_files = []\n",
        "    for root, dirs, files in os.walk(directory):\n",
        "        for file in files:\n",
        "            if file.endswith(('.wav', '.mp3', '.flac')):  \n",
        "                audio_files.append(os.path.join(root, file))\n",
        "    return audio_files\n",
        "\n",
        "def filter_audio_files(audio_files, min_duration, max_duration):\n",
        "    filtered_files = []\n",
        "    for audio_file in audio_files:\n",
        "        audio = AudioSegment.from_file(audio_file)\n",
        "        duration_ms = len(audio)\n",
        "        if min_duration <= duration_ms <= max_duration:\n",
        "            filtered_files.append(audio_file)\n",
        "    return filtered_files\n",
        "\n",
        "def copy_selected_files(source_directory, target_directory, min_duration, max_duration, files_per_directory):\n",
        "    create_directory(target_directory)\n",
        "\n",
        "    for root, dirs, _ in os.walk(source_directory):\n",
        "        for dir in dirs:\n",
        "            current_dir = os.path.join(root, dir)\n",
        "            audio_files = get_audio_files_in_directory(current_dir)\n",
        "            filtered_files = filter_audio_files(audio_files, min_duration, max_duration)\n",
        "\n",
        "            selected_files = filtered_files[:files_per_directory]\n",
        "\n",
        "            target_subdir = os.path.join(target_directory)\n",
        "            create_directory(target_subdir)\n",
        "\n",
        "            for file in selected_files:\n",
        "                shutil.copy(file, target_subdir)\n",
        "                print(f'Copied {file} to {target_subdir}')\n",
        "\n",
        "source_directory = '/content/folder'\n",
        "target_directory = '/content/folder3'\n",
        "min_duration = 1000  \n",
        "max_duration = 2500  \n",
        "files_per_directory = 5\n",
        "\n",
        "copy_selected_files(source_directory, target_directory, min_duration, max_duration, files_per_directory)\n"
      ]
    },
    {
      "cell_type": "code",
      "execution_count": null,
      "metadata": {
        "id": "megQ7SYXzb-K"
      },
      "outputs": [],
      "source": [
        "def convert_flac_to_wav(source_folder, target_folder):\n",
        "    os.makedirs(target_folder, exist_ok=True)\n",
        "\n",
        "    for filename in os.listdir(source_folder):\n",
        "        if filename.endswith(\".flac\"):\n",
        "            flac_path = os.path.join(source_folder, filename)\n",
        "            wav_path = os.path.join(target_folder, os.path.splitext(filename)[0] + '.wav')\n",
        "\n",
        "            audio = AudioSegment.from_file(flac_path, format=\"flac\")\n",
        "\n",
        "            audio.export(wav_path, format=\"wav\")\n",
        "            print(f\"Converted {flac_path} to {wav_path}\")\n",
        "\n",
        "source_folder = \"positive/positive\"\n",
        "target_folder = \"positive_converted\"\n",
        "convert_flac_to_wav(source_folder, target_folder)"
      ]
    }
  ],
  "metadata": {
    "colab": {
      "provenance": []
    },
    "kernelspec": {
      "display_name": "Python 3",
      "name": "python3"
    },
    "language_info": {
      "name": "python"
    }
  },
  "nbformat": 4,
  "nbformat_minor": 0
}
